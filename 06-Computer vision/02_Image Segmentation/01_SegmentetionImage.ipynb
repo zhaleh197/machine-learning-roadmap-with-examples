{
 "cells": [
  {
   "attachments": {},
   "cell_type": "markdown",
   "metadata": {},
   "source": [
    "There is  a compare between Image Classification , Image Segmentation , and Object detection\n",
    "\n",
    "\n",
    "\n",
    "<img title=\"a title\" alt=\"Alt text\" src=\"../files/ref2.png\">\n",
    "<!-- <img title=\"a title\" alt=\"Alt text\" src=\"../ref.png\"> -->"
   ]
  },
  {
   "attachments": {},
   "cell_type": "markdown",
   "metadata": {},
   "source": [
    "\n",
    "\n",
    "## Image Segmentation:\n",
    "* Semantic Segmentation\n",
    "* Instance Segmentation\n",
    "* Panoptic Segmentation\n",
    "\n",
    "\n",
    "\n",
    "<img title=\"a title\" alt=\"Alt text\" src=\"../files/Seg.type.jpeg\">"
   ]
  },
  {
   "attachments": {},
   "cell_type": "markdown",
   "metadata": {},
   "source": [
    "Famous's Segmentation Net:\n",
    "* UNet\n",
    "* Mask RCNN\n",
    "* SegNet\n",
    "* VNet\n",
    "* WNet\n",
    "* UNet++"
   ]
  },
  {
   "attachments": {},
   "cell_type": "markdown",
   "metadata": {},
   "source": []
  },
  {
   "attachments": {},
   "cell_type": "markdown",
   "metadata": {},
   "source": []
  }
 ],
 "metadata": {
  "language_info": {
   "name": "python"
  },
  "orig_nbformat": 4
 },
 "nbformat": 4,
 "nbformat_minor": 2
}
