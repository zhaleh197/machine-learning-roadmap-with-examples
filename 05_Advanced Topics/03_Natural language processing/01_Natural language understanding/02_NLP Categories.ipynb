{
 "cells": [
  {
   "attachments": {},
   "cell_type": "markdown",
   "metadata": {},
   "source": [
    "## NLP Tasks:\n",
    "\n",
    "1. Text Classification ( e.g. Spam detection, doc classification , hate speech datection)\n",
    "2. Text Similarity ( raw Text->Sentence encoder -> Cosin similarity)\n",
    "3. Information Extraction \n",
    "<img title=\"a title\" alt=\"Alt text\" src=\"../files/inEx.png\">\n",
    "\n",
    "4. Information Retrival (TFIDF Score - BERT)\n",
    "5. Chat bots (FAQ Bot -Flow-Based Bot - Open-Ended Bot )\n",
    "6. Machine Translation ( Encoder-Decoder architecture of RNN)\n",
    "7. Language Modeling (like write autocomplete. two type models: Statestic Model - Neural Model)\n",
    "8. Text Summarization\n",
    "9. Topic Modeling\n",
    "10. voice Assistants\n",
    "\n",
    "## NLP Techniques:\n",
    "1. Rules & Heuristics\n",
    "(example: regular expression)\n",
    "2. Machine Learning\n",
    "(example: spam detection by this pipline: row text-> number vector -> satistical machin learning)\n",
    "3. Deep learning\n",
    "(example: Sentence embeddings, hungging face and compute cosin similarity by deelp learning)\n"
   ]
  },
  {
   "attachments": {},
   "cell_type": "markdown",
   "metadata": {},
   "source": [
    "\n",
    "\n",
    "Some jargons:\n",
    "* \n",
    "* Tesseract OCR google: convert doc to Text\n",
    "* Doc2Vect:\n",
    "* Feature Engineering\n",
    "    * TF-IDF victorizer  \n",
    "    * One Hot encoding\n",
    "    * Word Embedding"
   ]
  }
 ],
 "metadata": {
  "language_info": {
   "name": "python"
  },
  "orig_nbformat": 4
 },
 "nbformat": 4,
 "nbformat_minor": 2
}
