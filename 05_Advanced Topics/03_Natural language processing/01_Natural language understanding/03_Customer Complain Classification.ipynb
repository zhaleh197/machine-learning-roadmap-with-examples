{
 "cells": [
  {
   "attachments": {},
   "cell_type": "markdown",
   "metadata": {},
   "source": [
    "An end-to-end NLP project consists of many steps. These steps together form an NLP pipeline. The pipeline has various stages such as data acquisition, data clearing, pre-processing, model building, deployment, monitoring, and update, etc. \n",
    "\n",
    "We will use a real-life example and go through various stages of the NLP pipeline in this Doc.\n",
    "\n",
    "<!-- <img title=\"a title\" alt=\"Alt text\" src=\"../files/inEx.png\"> -->\n",
    "<img title= \"er\" alt=\"er\" src=\"../files/customer-coplain-severity.png\">"
   ]
  },
  {
   "attachments": {},
   "cell_type": "markdown",
   "metadata": {},
   "source": [
    "## The Architecture of Text Classification:\n",
    "\n",
    "<img title= \"er\" alt=\"er\" src=\"../files/arthitecture.png\">"
   ]
  },
  {
   "cell_type": "markdown",
   "metadata": {},
   "source": []
  },
  {
   "cell_type": "code",
   "execution_count": null,
   "metadata": {},
   "outputs": [],
   "source": []
  },
  {
   "cell_type": "code",
   "execution_count": null,
   "metadata": {},
   "outputs": [],
   "source": []
  }
 ],
 "metadata": {
  "language_info": {
   "name": "python"
  },
  "orig_nbformat": 4
 },
 "nbformat": 4,
 "nbformat_minor": 2
}
